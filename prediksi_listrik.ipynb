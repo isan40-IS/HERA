{
 "cells": [
  {
   "cell_type": "markdown",
   "id": "5591b2f3",
   "metadata": {},
   "source": [
    "# Prediksi Konsumsi Listrik Kota L\n",
    "Notebook ini berisi langkah-langkah memuat data, pra-pemrosesan, pelatihan model XGBoost, LSTM multivariat, ensemble, evaluasi RMSE, dan menyimpan prediksi sesuai format submission."
   ]
  },
  {
   "cell_type": "code",
   "execution_count": 1,
   "id": "f8af3060",
   "metadata": {},
   "outputs": [
    {
     "name": "stdout",
     "output_type": "stream",
     "text": [
      "Libraries loaded\n"
     ]
    }
   ],
   "source": [
    "\n",
    "import pandas as pd\n",
    "import numpy as np\n",
    "from sklearn.preprocessing import LabelEncoder, StandardScaler\n",
    "from sklearn.metrics import mean_squared_error\n",
    "from xgboost import XGBRegressor\n",
    "from tensorflow.keras.models import Sequential\n",
    "from tensorflow.keras.layers import LSTM, Dense\n",
    "from tensorflow.keras.callbacks import EarlyStopping\n",
    "\n",
    "print('Libraries loaded')"
   ]
  },
  {
   "cell_type": "code",
   "execution_count": 2,
   "id": "f4932d5f",
   "metadata": {},
   "outputs": [
    {
     "name": "stdout",
     "output_type": "stream",
     "text": [
      "Data loaded: (24336, 8) (2160, 7) (2160, 2)\n"
     ]
    }
   ],
   "source": [
    "# Load data\n",
    "df_train = pd.read_csv('data_train.csv', parse_dates=['tanggal_waktu'])\n",
    "df_test = pd.read_csv('data_test.csv', parse_dates=['tanggal_waktu'])\n",
    "submission = pd.read_csv('submission_format.csv')\n",
    "\n",
    "print('Data loaded:', df_train.shape, df_test.shape, submission.shape)"
   ]
  },
  {
   "cell_type": "code",
   "execution_count": 3,
   "id": "f1143777",
   "metadata": {},
   "outputs": [
    {
     "name": "stdout",
     "output_type": "stream",
     "text": [
      "Preprocessing selesai, fitur shape: (24312, 9)\n"
     ]
    }
   ],
   "source": [
    "# Pra-pemrosesan data\n",
    "# Ganti nilai 99999 menjadi NaN\n",
    "df_train['konsumsi_listrik'] = df_train['konsumsi_listrik'].replace(99999, np.nan)\n",
    "# Urutkan berdasarkan waktu dan interpolasi linear\n",
    "df_train = df_train.sort_values('tanggal_waktu').set_index('tanggal_waktu')\n",
    "df_train['konsumsi_listrik'] = df_train['konsumsi_listrik'].interpolate()\n",
    "\n",
    "# Label encoding untuk kolom kategorikal\n",
    "le = LabelEncoder()\n",
    "df_train['dampak_env_enc'] = le.fit_transform(df_train['dampak_lingkungan'])\n",
    "df_test = df_test.sort_values('tanggal_waktu').set_index('tanggal_waktu')\n",
    "df_test['dampak_env_enc'] = le.transform(df_test['dampak_lingkungan'])\n",
    "\n",
    "# Ekstraksi fitur waktu\n",
    "for df in [df_train, df_test]:\n",
    "    df['hour'] = df.index.hour\n",
    "    df['dayofweek'] = df.index.dayofweek\n",
    "\n",
    "# Buat fitur lag pada train\n",
    "df_train['lag1'] = df_train['konsumsi_listrik'].shift(1)\n",
    "df_train['lag24'] = df_train['konsumsi_listrik'].shift(24)\n",
    "df_train = df_train.dropna()\n",
    "\n",
    "features = ['suhu', 'beban_listrik', 'kecepatan_angin', 'tekanan_udara', 'dampak_env_enc', 'hour', 'dayofweek', 'lag1', 'lag24']\n",
    "X = df_train[features]\n",
    "y = df_train['konsumsi_listrik']\n",
    "\n",
    "print('Preprocessing selesai, fitur shape:', X.shape)"
   ]
  },
  {
   "cell_type": "code",
   "execution_count": 4,
   "id": "cac48b98",
   "metadata": {},
   "outputs": [
    {
     "name": "stdout",
     "output_type": "stream",
     "text": [
      "Train shape: (19449, 9) Validation shape: (4863, 9)\n"
     ]
    }
   ],
   "source": [
    "# Split data train dan validasi\n",
    "total = len(df_train)\n",
    "idx = int(total * 0.8)\n",
    "X_tr, X_val = X.iloc[:idx], X.iloc[idx:]\n",
    "y_tr, y_val = y.iloc[:idx], y.iloc[idx:]\n",
    "\n",
    "print('Train shape:', X_tr.shape, 'Validation shape:', X_val.shape)"
   ]
  },
  {
   "cell_type": "code",
   "execution_count": 5,
   "id": "8b563372",
   "metadata": {},
   "outputs": [
    {
     "name": "stdout",
     "output_type": "stream",
     "text": [
      "RMSE XGBoost: 34.30677572861834\n"
     ]
    }
   ],
   "source": [
    "# XGBoost Regressor\n",
    "xgb_model = XGBRegressor(n_estimators=200, max_depth=6, random_state=42)\n",
    "xgb_model.fit(X_tr, y_tr)\n",
    "pred_xgb_val = xgb_model.predict(X_val)\n",
    "rmse_xgb = np.sqrt(mean_squared_error(y_val, pred_xgb_val))\n",
    "print('RMSE XGBoost:', rmse_xgb)"
   ]
  },
  {
   "cell_type": "code",
   "execution_count": 6,
   "id": "262aad93",
   "metadata": {},
   "outputs": [
    {
     "name": "stderr",
     "output_type": "stream",
     "text": [
      "C:\\Users\\Rifqi Alfareza\\AppData\\Local\\Packages\\PythonSoftwareFoundation.Python.3.11_qbz5n2kfra8p0\\LocalCache\\local-packages\\Python311\\site-packages\\keras\\src\\layers\\rnn\\rnn.py:200: UserWarning: Do not pass an `input_shape`/`input_dim` argument to a layer. When using Sequential models, prefer using an `Input(shape)` object as the first layer in the model instead.\n",
      "  super().__init__(**kwargs)\n"
     ]
    },
    {
     "name": "stdout",
     "output_type": "stream",
     "text": [
      "Epoch 1/10\n",
      "\u001b[1m608/608\u001b[0m \u001b[32m━━━━━━━━━━━━━━━━━━━━\u001b[0m\u001b[37m\u001b[0m \u001b[1m12s\u001b[0m 14ms/step - loss: 93558.4688 - val_loss: 75991.7500\n",
      "Epoch 2/10\n",
      "\u001b[1m608/608\u001b[0m \u001b[32m━━━━━━━━━━━━━━━━━━━━\u001b[0m\u001b[37m\u001b[0m \u001b[1m8s\u001b[0m 13ms/step - loss: 74035.3750 - val_loss: 61885.4922\n",
      "Epoch 3/10\n",
      "\u001b[1m608/608\u001b[0m \u001b[32m━━━━━━━━━━━━━━━━━━━━\u001b[0m\u001b[37m\u001b[0m \u001b[1m8s\u001b[0m 13ms/step - loss: 61447.9648 - val_loss: 50158.8359\n",
      "Epoch 4/10\n",
      "\u001b[1m608/608\u001b[0m \u001b[32m━━━━━━━━━━━━━━━━━━━━\u001b[0m\u001b[37m\u001b[0m \u001b[1m8s\u001b[0m 13ms/step - loss: 49439.1445 - val_loss: 40404.3477\n",
      "Epoch 5/10\n",
      "\u001b[1m608/608\u001b[0m \u001b[32m━━━━━━━━━━━━━━━━━━━━\u001b[0m\u001b[37m\u001b[0m \u001b[1m8s\u001b[0m 13ms/step - loss: 40004.5547 - val_loss: 32394.7402\n",
      "Epoch 6/10\n",
      "\u001b[1m608/608\u001b[0m \u001b[32m━━━━━━━━━━━━━━━━━━━━\u001b[0m\u001b[37m\u001b[0m \u001b[1m8s\u001b[0m 13ms/step - loss: 32223.8281 - val_loss: 25947.6523\n",
      "Epoch 7/10\n",
      "\u001b[1m608/608\u001b[0m \u001b[32m━━━━━━━━━━━━━━━━━━━━\u001b[0m\u001b[37m\u001b[0m \u001b[1m8s\u001b[0m 13ms/step - loss: 26687.3633 - val_loss: 20911.3770\n",
      "Epoch 8/10\n",
      "\u001b[1m608/608\u001b[0m \u001b[32m━━━━━━━━━━━━━━━━━━━━\u001b[0m\u001b[37m\u001b[0m \u001b[1m8s\u001b[0m 13ms/step - loss: 20776.8047 - val_loss: 17118.0293\n",
      "Epoch 9/10\n",
      "\u001b[1m608/608\u001b[0m \u001b[32m━━━━━━━━━━━━━━━━━━━━\u001b[0m\u001b[37m\u001b[0m \u001b[1m8s\u001b[0m 13ms/step - loss: 17534.0020 - val_loss: 14438.4551\n",
      "Epoch 10/10\n",
      "\u001b[1m608/608\u001b[0m \u001b[32m━━━━━━━━━━━━━━━━━━━━\u001b[0m\u001b[37m\u001b[0m \u001b[1m9s\u001b[0m 14ms/step - loss: 14797.4043 - val_loss: 12572.1865\n",
      "\u001b[1m152/152\u001b[0m \u001b[32m━━━━━━━━━━━━━━━━━━━━\u001b[0m\u001b[37m\u001b[0m \u001b[1m2s\u001b[0m 11ms/step\n",
      "RMSE LSTM: 112.1257565867636\n"
     ]
    }
   ],
   "source": [
    "# LSTM Multivariat\n",
    "scaler = StandardScaler()\n",
    "data_scaled = scaler.fit_transform(df_train[features])\n",
    "\n",
    "def create_sequences(data, target, seq_len=24):\n",
    "    Xs, ys = [], []\n",
    "    for i in range(seq_len, len(data)):\n",
    "        Xs.append(data[i-seq_len:i])\n",
    "        ys.append(target.values[i])\n",
    "    return np.array(Xs), np.array(ys)\n",
    "\n",
    "X_seq, y_seq = create_sequences(data_scaled, df_train['konsumsi_listrik'], seq_len=24)\n",
    "split_seq = int(len(X_seq) * 0.8)\n",
    "X_tr_seq, X_val_seq = X_seq[:split_seq], X_seq[split_seq:]\n",
    "y_tr_seq, y_val_seq = y_seq[:split_seq], y_seq[split_seq:]\n",
    "\n",
    "model_lstm = Sequential([\n",
    "    LSTM(50, input_shape=(X_tr_seq.shape[1], X_tr_seq.shape[2])),\n",
    "    Dense(1)\n",
    "])\n",
    "model_lstm.compile(optimizer='adam', loss='mse')\n",
    "es = EarlyStopping(patience=3, restore_best_weights=True)\n",
    "model_lstm.fit(X_tr_seq, y_tr_seq, epochs=10, batch_size=32, validation_data=(X_val_seq, y_val_seq), callbacks=[es])\n",
    "pred_lstm_val = model_lstm.predict(X_val_seq).flatten()\n",
    "rmse_lstm = np.sqrt(mean_squared_error(y_val_seq, pred_lstm_val))\n",
    "print('RMSE LSTM:', rmse_lstm)"
   ]
  },
  {
   "cell_type": "code",
   "execution_count": 7,
   "id": "1bcbf6df",
   "metadata": {},
   "outputs": [
    {
     "name": "stdout",
     "output_type": "stream",
     "text": [
      "RMSE Ensemble: 64.61502777547538\n",
      "              Model        RMSE\n",
      "0           XGBoost   34.306776\n",
      "1  LSTM Multivariat  112.125757\n",
      "2          Ensemble   64.615028\n"
     ]
    }
   ],
   "source": [
    "# Ensemble (rata-rata prediksi XGB dan LSTM)\n",
    "pred_xgb_for_ens = pred_xgb_val[-len(pred_lstm_val):]\n",
    "pred_ensemble_val = (pred_xgb_for_ens + pred_lstm_val) / 2\n",
    "rmse_ensemble = np.sqrt(mean_squared_error(y_val_seq, pred_ensemble_val))\n",
    "print('RMSE Ensemble:', rmse_ensemble)\n",
    "\n",
    "# Tabel ringkasan RMSE\n",
    "rmse_df = pd.DataFrame({\n",
    "    'Model': ['XGBoost', 'LSTM Multivariat', 'Ensemble'],\n",
    "    'RMSE': [rmse_xgb, rmse_lstm, rmse_ensemble]\n",
    "})\n",
    "print(rmse_df)"
   ]
  },
  {
   "cell_type": "code",
   "execution_count": 8,
   "id": "d0b2e728",
   "metadata": {},
   "outputs": [
    {
     "name": "stdout",
     "output_type": "stream",
     "text": [
      "File prediksi disimpan: prediksi_submission.csv\n"
     ]
    }
   ],
   "source": [
    "# Prediksi pada data test menggunakan rolling forecast\n",
    "df_test_full = df_test.copy()\n",
    "# Siapkan kolom lag\n",
    "df_test_full['lag1'] = np.nan\n",
    "df_test_full['lag24'] = np.nan\n",
    "\n",
    "# Mulai dari nilai terakhir train untuk lag\n",
    "last_values = df_train['konsumsi_listrik'].values[-24:]\n",
    "\n",
    "preds = []\n",
    "for idx, (ts, row) in enumerate(df_test_full.iterrows()):\n",
    "    if idx == 0:\n",
    "        lag1 = df_train['konsumsi_listrik'].iloc[-1]\n",
    "        lag24 = last_values[0]\n",
    "    else:\n",
    "        lag1 = preds[-1]\n",
    "        lag24 = preds[-24] if idx >= 24 else last_values[idx]\n",
    "    features_row = np.array([[\n",
    "        row['suhu'], row['beban_listrik'], row['kecepatan_angin'], row['tekanan_udara'],\n",
    "        row['dampak_env_enc'], row['hour'], row['dayofweek'], lag1, lag24\n",
    "    ]])\n",
    "    # Prediksi XGB\n",
    "    p_xgb = xgb_model.predict(features_row)[0]\n",
    "    # Prediksi LSTM: perlu scaling dan membuat sequence terakhir\n",
    "    seq_input = np.vstack([data_scaled[-24+idx:]]).copy()  # adjust if needed\n",
    "    # Simplifikasi: gunakan XGB untuk rolling, LSTM forecast panjang memerlukan window, skip LSTM dynamic here\n",
    "    p_ens = p_xgb  # jika tidak bisa rolling LSTM, pakai XGB saja di test\n",
    "    preds.append(p_ens)\n",
    "\n",
    "df_test_full['konsumsi_listrik'] = preds\n",
    "# Simpan hasil prediksi sesuai format submission\n",
    "submission['konsumsi_listrik'] = df_test_full['konsumsi_listrik'].values\n",
    "submission.to_csv('prediksi_submission.csv', index=False)\n",
    "print('File prediksi disimpan: prediksi_submission.csv')"
   ]
  }
 ],
 "metadata": {
  "kernelspec": {
   "display_name": "Python 3",
   "language": "python",
   "name": "python3"
  },
  "language_info": {
   "codemirror_mode": {
    "name": "ipython",
    "version": 3
   },
   "file_extension": ".py",
   "mimetype": "text/x-python",
   "name": "python",
   "nbconvert_exporter": "python",
   "pygments_lexer": "ipython3",
   "version": "3.11.9"
  }
 },
 "nbformat": 4,
 "nbformat_minor": 5
}
